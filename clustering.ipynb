{
 "metadata": {
  "language_info": {
   "codemirror_mode": {
    "name": "ipython",
    "version": 3
   },
   "file_extension": ".py",
   "mimetype": "text/x-python",
   "name": "python",
   "nbconvert_exporter": "python",
   "pygments_lexer": "ipython3",
   "version": "3.7.9-final"
  },
  "orig_nbformat": 2,
  "kernelspec": {
   "name": "python3",
   "display_name": "Python 3.7.9 64-bit ('data_challenge': conda)",
   "metadata": {
    "interpreter": {
     "hash": "a76cc6609b19670ed5a5beefd81c358fe89c0b57f12198349bbcd36312527f13"
    }
   }
  }
 },
 "nbformat": 4,
 "nbformat_minor": 2,
 "cells": [
  {
   "cell_type": "code",
   "execution_count": 1,
   "metadata": {},
   "outputs": [],
   "source": [
    "# Imports\n",
    "import os\n",
    "from core.clustering import generate_clusters, eval_clustering\n",
    "import numpy as np\n",
    "import pandas as pd\n",
    "import pickle"
   ]
  },
  {
   "source": [
    "## Get features"
   ],
   "cell_type": "markdown",
   "metadata": {}
  },
  {
   "cell_type": "code",
   "execution_count": 2,
   "metadata": {},
   "outputs": [],
   "source": [
    "# Features extracted with MobileNet\n",
    "features = pickle.load(open(\"./features/features_mn.pkl\", \"rb\"))"
   ]
  },
  {
   "source": [
    "## Features clustering"
   ],
   "cell_type": "markdown",
   "metadata": {}
  },
  {
   "cell_type": "code",
   "execution_count": 3,
   "metadata": {},
   "outputs": [
    {
     "output_type": "stream",
     "name": "stdout",
     "text": [
      "Wall time: 17 ms\n"
     ]
    }
   ],
   "source": [
    "%%time\n",
    "centroids, labels = generate_clusters(features, n_clusters=5)"
   ]
  },
  {
   "cell_type": "code",
   "execution_count": 6,
   "metadata": {},
   "outputs": [
    {
     "output_type": "stream",
     "name": "stdout",
     "text": [
      "Cluster 0 - image n°114 - Acc: 1.0\nCluster 0 - image n°125 - Acc: 1.0\nCluster 0 - image n°239 - Acc: 1.0\nCluster 0 - image n°182 - Acc: 1.0\nCluster 0 - image n°36 - Acc: 1.0\nCluster 0 - Acc: 1.0\nCluster 1 - image n°231 - Acc: 1.0\nCluster 1 - image n°152 - Acc: 1.0\nCluster 1 - image n°222 - Acc: 1.0\nCluster 1 - image n°31 - Acc: 1.0\nCluster 1 - image n°222 - Acc: 1.0\nCluster 1 - Acc: 1.0\nCluster 2 - image n°120 - Acc: 1.0\nCluster 2 - image n°38 - Acc: 1.0\nCluster 2 - image n°162 - Acc: 1.0\nCluster 2 - image n°120 - Acc: 1.0\nCluster 2 - image n°199 - Acc: 1.0\nCluster 2 - Acc: 1.0\nCluster 3 - image n°14 - Acc: 1.0\nCluster 3 - image n°22 - Acc: 1.0\nCluster 3 - image n°102 - Acc: 1.0\nCluster 3 - image n°134 - Acc: 1.0\nCluster 3 - image n°190 - Acc: 1.0\nCluster 3 - Acc: 1.0\nCluster 4 - image n°221 - Acc: 1.0\nCluster 4 - image n°49 - Acc: 1.0\nCluster 4 - image n°49 - Acc: 1.0\nCluster 4 - image n°24 - Acc: 1.0\nCluster 4 - image n°92 - Acc: 1.0\nCluster 4 - Acc: 1.0\nClustering Acc: 1.0\nWall time: 12.5 ms\n"
     ]
    }
   ],
   "source": [
    "%%time\n",
    "data = data = pd.read_csv(\"./data/out.csv\")\n",
    "data = pd.DataFrame({\n",
    "    \"duplicates\": data.duplicates.apply(lambda x: [int(elt) for elt in x.split(\" \")])\n",
    "})\n",
    "acc = eval_clustering(centroids, labels, data)\n",
    "print(f\"Clustering Acc: {acc}\")"
   ]
  },
  {
   "cell_type": "code",
   "execution_count": 6,
   "metadata": {},
   "outputs": [],
   "source": [
    "with open('./clusters/labels.pkl', 'wb') as f :\n",
    "    pickle.dump(labels, f)\n",
    "\n",
    "with open('./clusters/centroids.pkl', 'wb') as f :\n",
    "    pickle.dump(centroids, f)"
   ]
  }
 ]
}