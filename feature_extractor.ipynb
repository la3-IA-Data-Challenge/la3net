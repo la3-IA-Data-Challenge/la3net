{
 "metadata": {
  "language_info": {
   "codemirror_mode": {
    "name": "ipython",
    "version": 3
   },
   "file_extension": ".py",
   "mimetype": "text/x-python",
   "name": "python",
   "nbconvert_exporter": "python",
   "pygments_lexer": "ipython3",
   "version": "3.7.9-final"
  },
  "orig_nbformat": 2,
  "kernelspec": {
   "name": "python3",
   "display_name": "Python 3.7.9 64-bit ('data_challenge': conda)",
   "metadata": {
    "interpreter": {
     "hash": "a76cc6609b19670ed5a5beefd81c358fe89c0b57f12198349bbcd36312527f13"
    }
   }
  }
 },
 "nbformat": 4,
 "nbformat_minor": 2,
 "cells": [
  {
   "cell_type": "code",
   "execution_count": 1,
   "metadata": {},
   "outputs": [],
   "source": [
    "# Imports\n",
    "import os\n",
    "\n",
    "from core.feature_extractor import extract_features\n",
    "from core.utils.extractors import Encoder\n",
    "\n",
    "import numpy as np\n",
    "\n",
    "import pickle"
   ]
  },
  {
   "cell_type": "code",
   "execution_count": 2,
   "metadata": {},
   "outputs": [
    {
     "output_type": "stream",
     "name": "stdout",
     "text": [
      "Nombres d'images: 240\n"
     ]
    }
   ],
   "source": [
    "IMAGESDIR = \"./data/near_duplicates/\"\n",
    "print(\"Nombres d'images: {0}\".format(len(os.listdir(IMAGESDIR))))\n",
    "nb_images = len(os.listdir(IMAGESDIR))"
   ]
  },
  {
   "source": [
    "## Encode images using MobileNet"
   ],
   "cell_type": "markdown",
   "metadata": {}
  },
  {
   "cell_type": "code",
   "execution_count": 4,
   "metadata": {},
   "outputs": [
    {
     "output_type": "stream",
     "name": "stderr",
     "text": [
      "2020-12-06 09:56:07,601: INFO Initialized: MobileNet pretrained on ImageNet dataset sliced at last conv layer and added GlobalAveragePooling\n",
      "Wall time: 1min 34s\n"
     ]
    },
    {
     "output_type": "execute_result",
     "data": {
      "text/plain": [
       "(240, 1024)"
      ]
     },
     "metadata": {},
     "execution_count": 4
    }
   ],
   "source": [
    "%%time\n",
    "encoder = Encoder(encoding=\"mobilenet\")\n",
    "features = extract_features(encoder, IMAGESDIR)\n",
    "features.shape"
   ]
  },
  {
   "cell_type": "code",
   "execution_count": 5,
   "metadata": {},
   "outputs": [],
   "source": [
    "with open('./features/features_mn.pkl', 'wb') as f :\n",
    "    pickle.dump(features, f)"
   ]
  }
 ]
}